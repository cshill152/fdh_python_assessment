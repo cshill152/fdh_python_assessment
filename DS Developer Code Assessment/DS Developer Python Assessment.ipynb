{
 "cells": [
  {
   "cell_type": "markdown",
   "id": "118c1529",
   "metadata": {},
   "source": [
    "# Data Science Developer - Python Skills Assessment\n",
    "## FDH Infrastructure Services - Federal Programs Division\n",
    "\n",
    "The purpose of this assessment is not only to gauge your skill level and understanding of python, but also to get an idea of your thought processes and problem solving skills. So please walk us through what you're thinking as you go through the problems, and feel free to ask questions as you go along.\n",
    "\n",
    "**Import any library you want or need** \n",
    "\n",
    "**Internet use is welcomed**"
   ]
  },
  {
   "cell_type": "markdown",
   "id": "c335f94e",
   "metadata": {},
   "source": [
    "## List comprehension"
   ]
  },
  {
   "cell_type": "code",
   "execution_count": 8,
   "id": "8fa2ca87",
   "metadata": {},
   "outputs": [],
   "source": [
    "A = [1.3, 5.7, 12.8, 13.3, 22.1, -0.87, -32.7, 0.0, 5.76, -1.2]"
   ]
  },
  {
   "cell_type": "markdown",
   "id": "d2f9464d",
   "metadata": {},
   "source": [
    "#### Return a list where each element is exactly double the elements of A"
   ]
  },
  {
   "cell_type": "code",
   "execution_count": null,
   "id": "c97d4863",
   "metadata": {},
   "outputs": [],
   "source": []
  },
  {
   "cell_type": "code",
   "execution_count": null,
   "id": "e5bfd934",
   "metadata": {},
   "outputs": [],
   "source": []
  },
  {
   "cell_type": "code",
   "execution_count": null,
   "id": "b6ff2187",
   "metadata": {},
   "outputs": [],
   "source": []
  },
  {
   "cell_type": "markdown",
   "id": "b5547166",
   "metadata": {},
   "source": [
    "#### Determine the statistics of list A. Max, min, mean, standard deviation, etc."
   ]
  },
  {
   "cell_type": "code",
   "execution_count": null,
   "id": "7f916096",
   "metadata": {},
   "outputs": [],
   "source": []
  },
  {
   "cell_type": "code",
   "execution_count": null,
   "id": "94376543",
   "metadata": {},
   "outputs": [],
   "source": []
  },
  {
   "cell_type": "code",
   "execution_count": null,
   "id": "2d01a67f",
   "metadata": {},
   "outputs": [],
   "source": []
  },
  {
   "cell_type": "markdown",
   "id": "da8e9ec8",
   "metadata": {},
   "source": [
    "#### Return a list where the negative values are replaced with the average of the positive values"
   ]
  },
  {
   "cell_type": "code",
   "execution_count": null,
   "id": "2d0bee2c",
   "metadata": {},
   "outputs": [],
   "source": []
  },
  {
   "cell_type": "code",
   "execution_count": null,
   "id": "14844b95",
   "metadata": {},
   "outputs": [],
   "source": []
  },
  {
   "cell_type": "code",
   "execution_count": null,
   "id": "dbf26d25",
   "metadata": {},
   "outputs": [],
   "source": []
  },
  {
   "cell_type": "markdown",
   "id": "86ffe49f",
   "metadata": {},
   "source": [
    "## Data Handling"
   ]
  },
  {
   "cell_type": "code",
   "execution_count": 1,
   "id": "439d7900",
   "metadata": {},
   "outputs": [],
   "source": [
    "chemical_data_file = './Chemical_Concentration_Data.csv'\n",
    "geo_data_file = './Geological_Data.csv'"
   ]
  },
  {
   "cell_type": "markdown",
   "id": "363d55eb",
   "metadata": {},
   "source": [
    "#### Import the above data files as DataFrames"
   ]
  },
  {
   "cell_type": "code",
   "execution_count": null,
   "id": "b3c27ec2",
   "metadata": {},
   "outputs": [],
   "source": []
  },
  {
   "cell_type": "code",
   "execution_count": null,
   "id": "75dc840c",
   "metadata": {},
   "outputs": [],
   "source": []
  },
  {
   "cell_type": "markdown",
   "id": "0c0541b4",
   "metadata": {},
   "source": [
    "#### What are some general characteristics about the data?"
   ]
  },
  {
   "cell_type": "code",
   "execution_count": null,
   "id": "4b492ee5",
   "metadata": {},
   "outputs": [],
   "source": []
  },
  {
   "cell_type": "code",
   "execution_count": null,
   "id": "f2f964e7",
   "metadata": {},
   "outputs": [],
   "source": []
  },
  {
   "cell_type": "code",
   "execution_count": null,
   "id": "f78688ae",
   "metadata": {},
   "outputs": [],
   "source": []
  },
  {
   "cell_type": "code",
   "execution_count": null,
   "id": "73d7fd57",
   "metadata": {},
   "outputs": [],
   "source": []
  },
  {
   "cell_type": "code",
   "execution_count": null,
   "id": "b23af31d",
   "metadata": {},
   "outputs": [],
   "source": []
  },
  {
   "cell_type": "code",
   "execution_count": null,
   "id": "fb051b1a",
   "metadata": {},
   "outputs": [],
   "source": []
  },
  {
   "cell_type": "markdown",
   "id": "5764b3bb",
   "metadata": {},
   "source": [
    "#### Combine the data to a single dataframe by Site ID and depth. Only keep the rows that exist in both tables."
   ]
  },
  {
   "cell_type": "code",
   "execution_count": null,
   "id": "8e5e681e",
   "metadata": {},
   "outputs": [],
   "source": []
  },
  {
   "cell_type": "code",
   "execution_count": null,
   "id": "e540a0bc",
   "metadata": {},
   "outputs": [],
   "source": []
  },
  {
   "cell_type": "markdown",
   "id": "6a1591e0",
   "metadata": {},
   "source": [
    "#### For our analysis, we only need the data for conductivity, saturation, chloride concentration, nitrate concentration, sulfate concentration, soild density, and soil friction angle as well as the site, depth, and sample identifiers. Reduce the data to only the required fields."
   ]
  },
  {
   "cell_type": "code",
   "execution_count": null,
   "id": "391f8d49",
   "metadata": {},
   "outputs": [],
   "source": []
  },
  {
   "cell_type": "code",
   "execution_count": null,
   "id": "ec72c830",
   "metadata": {},
   "outputs": [],
   "source": []
  },
  {
   "cell_type": "code",
   "execution_count": null,
   "id": "4b3c2b67",
   "metadata": {},
   "outputs": [],
   "source": []
  },
  {
   "cell_type": "code",
   "execution_count": null,
   "id": "884421b7",
   "metadata": {},
   "outputs": [],
   "source": []
  },
  {
   "cell_type": "markdown",
   "id": "20f38ce0",
   "metadata": {},
   "source": [
    "#### What, if anything, about the data must be addressed before we can perform any analysis or modeling?\n",
    "#### If there are issues that must be addressed, how can we handle them?"
   ]
  },
  {
   "cell_type": "code",
   "execution_count": null,
   "id": "90ac5a3e",
   "metadata": {},
   "outputs": [],
   "source": []
  },
  {
   "cell_type": "code",
   "execution_count": null,
   "id": "15c00b67",
   "metadata": {},
   "outputs": [],
   "source": []
  },
  {
   "cell_type": "code",
   "execution_count": null,
   "id": "100e4d70",
   "metadata": {},
   "outputs": [],
   "source": []
  },
  {
   "cell_type": "code",
   "execution_count": null,
   "id": "b2873cdc",
   "metadata": {},
   "outputs": [],
   "source": []
  },
  {
   "cell_type": "code",
   "execution_count": null,
   "id": "b4ebaa55",
   "metadata": {},
   "outputs": [],
   "source": []
  },
  {
   "cell_type": "code",
   "execution_count": null,
   "id": "5b5fc82d",
   "metadata": {},
   "outputs": [],
   "source": []
  },
  {
   "cell_type": "code",
   "execution_count": null,
   "id": "ae278ba7",
   "metadata": {},
   "outputs": [],
   "source": []
  },
  {
   "cell_type": "markdown",
   "id": "f46c1548",
   "metadata": {},
   "source": [
    "#### Chemical data has multiple samples per site. How can we reduce this to be a single data point per site and layer?"
   ]
  },
  {
   "cell_type": "code",
   "execution_count": null,
   "id": "edef62d8",
   "metadata": {},
   "outputs": [],
   "source": []
  },
  {
   "cell_type": "code",
   "execution_count": null,
   "id": "c31380b5",
   "metadata": {},
   "outputs": [],
   "source": []
  },
  {
   "cell_type": "code",
   "execution_count": null,
   "id": "9e20ab8b",
   "metadata": {},
   "outputs": [],
   "source": []
  },
  {
   "attachments": {},
   "cell_type": "markdown",
   "id": "f24dde92",
   "metadata": {},
   "source": [
    "####  We only want data at 10 feet intervals starting at a depth of 30 feet for site 31X2129. Reduce the dataframe so it only has the required data."
   ]
  },
  {
   "cell_type": "code",
   "execution_count": null,
   "id": "b68aada4",
   "metadata": {},
   "outputs": [],
   "source": []
  },
  {
   "cell_type": "code",
   "execution_count": null,
   "id": "a8846899",
   "metadata": {},
   "outputs": [],
   "source": []
  },
  {
   "cell_type": "markdown",
   "id": "18417655",
   "metadata": {},
   "source": [
    "#### If the CSV files were instead SQL tables of the same name, how can we do as much of the above ETL as possible using a SQL query? "
   ]
  },
  {
   "cell_type": "code",
   "execution_count": null,
   "id": "4265cf67",
   "metadata": {},
   "outputs": [],
   "source": [
    "query = \"\"\"\n",
    "        \n",
    "        \"\"\""
   ]
  },
  {
   "cell_type": "code",
   "execution_count": null,
   "id": "938fa2ba",
   "metadata": {},
   "outputs": [],
   "source": []
  },
  {
   "cell_type": "markdown",
   "id": "0483392e",
   "metadata": {},
   "source": [
    "## Object Oriented Appoach\n",
    "\n",
    "#### We want a class object that takes a site ID as input and returns the final transformed data we have above for the specified site. The start of a class is included below, add whatever inputs you think you need to the init method and begin constructing the class."
   ]
  },
  {
   "cell_type": "code",
   "execution_count": null,
   "id": "adc2ce01",
   "metadata": {},
   "outputs": [],
   "source": [
    "chemical_data_file = './Chemical_Concentration_Data.csv'\n",
    "geo_data_file = './Geological_Data.csv'\n",
    "\n",
    "class ExtractSiteData(object):\n",
    "    def __init__(self):\n",
    "        pass\n",
    "\n",
    "\n"
   ]
  },
  {
   "cell_type": "code",
   "execution_count": null,
   "id": "7cc45339",
   "metadata": {},
   "outputs": [],
   "source": []
  },
  {
   "cell_type": "code",
   "execution_count": null,
   "id": "0e442da8",
   "metadata": {},
   "outputs": [],
   "source": []
  },
  {
   "cell_type": "markdown",
   "id": "bfde905d",
   "metadata": {},
   "source": [
    "## Bonus Problems\n",
    "\n",
    "#### The layer data above is grouped by 5 foot ranges, 0-5, 5-10, etc. This gives us some overlap of data at the end points, i.e. two values for a depth of 5 feet. What are some ways that we could handle this? \n",
    "\n",
    "\n",
    "#### What if we wanted a more continuous gradient for these values? i.e. a value every foot instead of every 5 feet?"
   ]
  },
  {
   "cell_type": "code",
   "execution_count": null,
   "id": "067ae69c",
   "metadata": {},
   "outputs": [],
   "source": []
  }
 ],
 "metadata": {
  "kernelspec": {
   "display_name": "Python 3",
   "language": "python",
   "name": "python3"
  },
  "language_info": {
   "codemirror_mode": {
    "name": "ipython",
    "version": 3
   },
   "file_extension": ".py",
   "mimetype": "text/x-python",
   "name": "python",
   "nbconvert_exporter": "python",
   "pygments_lexer": "ipython3",
   "version": "3.8.10"
  }
 },
 "nbformat": 4,
 "nbformat_minor": 5
}
